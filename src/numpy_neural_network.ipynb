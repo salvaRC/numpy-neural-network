{
 "cells": [
  {
   "cell_type": "code",
   "execution_count": 1,
   "metadata": {
    "pycharm": {
     "name": "#%%\n"
    }
   },
   "outputs": [],
   "source": [
    "from abc import ABC, abstractmethod\n",
    "import matplotlib.pyplot as plt\n",
    "import numpy as np"
   ]
  },
  {
   "cell_type": "markdown",
   "metadata": {},
   "source": [
    "Let's first think abstractly about the interface we'll want for making use of our neural network.\n",
    "We'll likely want:\n",
    "- flexible number of input and output neurons as well as hidden layer count\n",
    "- different activation function (ReLU, Sigmoid etc.)\n",
    "- different loss functions\n",
    "\n",
    "Further, we clearly need to abstract the inner definition of the activation function to the following:"
   ]
  },
  {
   "cell_type": "code",
   "execution_count": 2,
   "metadata": {},
   "outputs": [],
   "source": [
    "class Activation(ABC):\n",
    "    @abstractmethod\n",
    "    def __call__(self, x):\n",
    "        pass\n",
    "\n",
    "    @abstractmethod\n",
    "    def derivative(self, x):\n",
    "        pass"
   ]
  },
  {
   "cell_type": "markdown",
   "metadata": {},
   "source": [
    "Which we can give life with, e.g., the following functions:"
   ]
  },
  {
   "cell_type": "code",
   "execution_count": 4,
   "metadata": {
    "pycharm": {
     "name": "#%%\n"
    }
   },
   "outputs": [],
   "source": [
    "class Linear(Activation):\n",
    "    def __call__(self, x):\n",
    "        return x\n",
    "    def derivative(self, x):\n",
    "        return 1\n",
    "    \n",
    "class ReLU(Activation):\n",
    "    def __call__(self, x):\n",
    "        return np.maximum(0, x)\n",
    "\n",
    "    def derivative(self, x):\n",
    "        if not isinstance(x, np.ndarray):\n",
    "            return 0 if x < 0 else 1\n",
    "        x = x.copy()\n",
    "        neg = x < 0\n",
    "        x[neg] = 0\n",
    "        x[~neg] = 1\n",
    "        return x\n",
    "\n",
    "class Softmax(Activation):\n",
    "    def __call__(self, x):\n",
    "        exps = np.exp(x - np.max(x))\n",
    "        return exps / np.sum(exps)\n",
    "\n",
    "    def derivative(self, x):\n",
    "        pass"
   ]
  },
  {
   "cell_type": "markdown",
   "metadata": {
    "pycharm": {
     "name": "#%% md\n"
    }
   },
   "source": [
    "A loss function will need a similar interface. E.g. the squared loss:"
   ]
  },
  {
   "cell_type": "code",
   "execution_count": 5,
   "metadata": {
    "pycharm": {
     "name": "#%%\n"
    }
   },
   "outputs": [],
   "source": [
    "class Loss(ABC):\n",
    "    @abstractmethod\n",
    "    def __call__(self, true_labels, predictions):\n",
    "        pass\n",
    "\n",
    "    @abstractmethod\n",
    "    def derivative(self, true_labels, predictions):\n",
    "        pass\n",
    "\n",
    "class SquaredLoss(Loss):\n",
    "    def __call__(self, true_labels, predictions):\n",
    "        diff = true_labels - predictions\n",
    "        loss = diff.T @ diff\n",
    "        return loss/2\n",
    "    \n",
    "    def derivative(self, true_labels, predictions):\n",
    "        return predictions - true_labels "
   ]
  },
  {
   "cell_type": "markdown",
   "metadata": {
    "pycharm": {
     "name": "#%% md\n"
    }
   },
   "source": [
    "When we think of layer, it is characterised by it's number of neurons and the activation function we apply on it. <br>\n",
    "Additionally, we'll need to store the pre- and post-activation vectors for backpropagation as well as the resulting gradient of the layer. <br>\n",
    "To not confuse ourselves with indices, our neural network later will provide the next layer as well as the weight object (that will forward this layer to the next) corresponding to this layer. <br>\n",
    "Let's code that up:"
   ]
  },
  {
   "cell_type": "code",
   "execution_count": 6,
   "metadata": {
    "pycharm": {
     "name": "#%%\n"
    }
   },
   "outputs": [],
   "source": [
    "class Layer:\n",
    "    def __init__(self, neuron_count: int, activation_func: Activation, next_layer=None, weight=None):\n",
    "        self.n_neurons = neuron_count \n",
    "        self.activation_func = activation_func\n",
    "        self.pre_activation = None\n",
    "        self.activation = None\n",
    "        self.next_layer = next_layer\n",
    "        self.gradient = None\n",
    "        self.weight = weight\n",
    "        \n",
    "    def backward(self):\n",
    "        d_activation = self.activation_func.derivative\n",
    "        self.gradient = self.weight.W.T @ self.next_layer.gradient * d_activation(self.activation)"
   ]
  },
  {
   "cell_type": "markdown",
   "metadata": {},
   "source": [
    "We'll also want a class for our network's paramaters: the weight matrices. <br>\n",
    "A weight matrix is characterised by the previous and next layer, which the weight matrix connects.\n",
    "The weight matrix $W_i \\in \\mathbb{R}^{n \\times m}$ connects layer $i$ of $m$ neurons with layer $i+1$ of $n$ neurons. <br>\n",
    "Additionally, we'll be adding a bias term, need to initialize the weight matrix and have accumulators for later SGD steps."
   ]
  },
  {
   "cell_type": "code",
   "execution_count": 7,
   "metadata": {},
   "outputs": [],
   "source": [
    "class Weight:\n",
    "    def __init__(self, prev_layer: Layer, next_layer: Layer):\n",
    "        self.previous = prev_layer\n",
    "        self.next = next_layer\n",
    "        self.dim_out, self.dim_in = next_layer.n_neurons, prev_layer.n_neurons\n",
    "        self.W = np.random.randn(self.dim_out, self.dim_in) * 0.1\n",
    "        self.bias = np.random.randn(self.dim_out, 1) * 0.1\n",
    "        self.gradient_acc = np.zeros(self.W.shape)\n",
    "        self.bias_acc = np.zeros(self.bias.shape)\n",
    "        self.activation_func = self.next.activation_func\n",
    "\n",
    "    def forward(self, x):\n",
    "        self.previous.activation = x\n",
    "        pre_activation = self.W @ x + self.bias\n",
    "        self.next.pre_activation = pre_activation\n",
    "        self.next.activation = self.activation_func(pre_activation)\n",
    "        return self.next.activation\n",
    "\n",
    "    def backward(self, lr):\n",
    "        self.bias_acc += lr * self.next.gradient\n",
    "        self.gradient_acc += lr * np.outer(self.next.gradient, self.previous.activation)\n",
    "\n",
    "    def update(self, normalization):\n",
    "        self.W = self.W - self.gradient_acc / normalization\n",
    "        self.bias = self.bias - self.bias_acc / normalization\n",
    "        self.gradient_acc = np.zeros(self.W.shape)\n",
    "        self.bias_acc = np.zeros(self.bias.shape)\n"
   ]
  },
  {
   "cell_type": "markdown",
   "metadata": {
    "pycharm": {
     "name": "#%% md\n"
    }
   },
   "source": [
    "The neural network will then just glue the layers and weights."
   ]
  },
  {
   "cell_type": "code",
   "execution_count": 8,
   "metadata": {
    "pycharm": {
     "name": "#%%\n"
    }
   },
   "outputs": [],
   "source": [
    "class NeuralNetwork:\n",
    "    def __init__(self, layers: list):\n",
    "        self.layers = layers\n",
    "        self.weights = []\n",
    "        self.y = None\n",
    "        self.loss_f = None\n",
    "        self.loss = -1\n",
    "        self.lr = 0.01\n",
    "        for i, layer in enumerate(self.layers[:-1]):\n",
    "            weight = Weight(layer, self.layers[i + 1])\n",
    "            self.weights.append(weight)\n",
    "            layer.next_layer = self.layers[i + 1]\n",
    "            layer.weight = weight"
   ]
  },
  {
   "cell_type": "markdown",
   "metadata": {
    "pycharm": {
     "name": "#%% md\n"
    }
   },
   "source": [
    "Now, given data we want to forward it through our network: A chain of matrix multiplications hidden in the weights method for forwarding..."
   ]
  },
  {
   "cell_type": "code",
   "execution_count": 9,
   "metadata": {
    "pycharm": {
     "name": "#%%\n"
    }
   },
   "outputs": [],
   "source": [
    "class NeuralNetwork(NeuralNetwork):\n",
    "    def forward(self, x):\n",
    "        activation = x\n",
    "        for weight in self.weights:\n",
    "            activation = weight.forward(activation)\n",
    "        return activation"
   ]
  },
  {
   "cell_type": "markdown",
   "metadata": {
    "pycharm": {
     "name": "#%% md\n"
    }
   },
   "source": [
    "The last activation we stored above is the current prediction of our network - We now need to backpropagate it, first we compute the layer gradients and then use them for updating the weights..."
   ]
  },
  {
   "cell_type": "code",
   "execution_count": 10,
   "metadata": {
    "pycharm": {
     "name": "#%%\n"
    }
   },
   "outputs": [],
   "source": [
    "class NeuralNetwork(NeuralNetwork):\n",
    "    def backprop(self):\n",
    "        assert self.loss_f is not None and self.y is not None\n",
    "        preds = self.layers[-1].activation\n",
    "        loss = self.loss_f.derivative(self.y, preds)\n",
    "\n",
    "        self.layers[-1].gradient = loss\n",
    "        self.loss += float(self.loss_f(self.y, preds))\n",
    "        rev_layers = list(reversed(self.layers))\n",
    "        for layer in rev_layers[1:-1]:  # needs to be in reversed order\n",
    "            layer.backward()\n",
    "            \n",
    "        for weight in self.weights:\n",
    "            weight.backward(self.lr)"
   ]
  },
  {
   "cell_type": "markdown",
   "metadata": {},
   "source": [
    "Finally, we need have a method to do the actual learning, i.e. tie the knots of all the above, and a method to do actual inference:"
   ]
  },
  {
   "cell_type": "code",
   "execution_count": 11,
   "metadata": {
    "pycharm": {
     "name": "#%%\n"
    }
   },
   "outputs": [],
   "source": [
    "class NeuralNetwork(NeuralNetwork):\n",
    "    def compile(self, loss_function, metric):\n",
    "        self.loss_f = loss_function\n",
    "        self.metric = metric\n",
    "        \n",
    "    def update(self):\n",
    "        for weight in self.weights:\n",
    "            weight.update(self.batch_size)\n",
    "\n",
    "    def fit(self, X, Y, X_val=None, Y_val=None, learning_rate=0.01, n_epochs=25, batch_size=64):\n",
    "        self.lr = learning_rate\n",
    "        self.batch_size = batch_size\n",
    "        num_samples = X.shape[0]\n",
    "        train_losses = []\n",
    "        val_metrics = []\n",
    "        for epoch in range(n_epochs):\n",
    "            X, Y = shuffle(X, Y)\n",
    "            self.loss = 0\n",
    "            for i, (x, y) in enumerate(zip(X, Y)):\n",
    "                self.y = y.reshape(-1, 1)\n",
    "                self.forward(x.reshape(-1, 1))\n",
    "                self.backprop()\n",
    "                if i % batch_size == 0 and i != 0:\n",
    "                    self.update()\n",
    "            self.loss /= num_samples\n",
    "\n",
    "            if X_val is not None and Y_val is not None:\n",
    "                tr_loss, val_metric =self.print_predict(X_val, Y_val, epoch=epoch)\n",
    "                train_losses.append(tr_loss)\n",
    "                val_metrics.append(val_metric)\n",
    "            else:\n",
    "                train_losses.append(self.loss)\n",
    "                print(\"Epoch {} - Loss = {:.3f}\".format(epoch, self.loss))\n",
    "        return {\"Train_loss\": train_losses, \"Val_performance\": val_metrics, \"Epochs\": range(n_epochs)}\n",
    "\n",
    "    def predict_proba(self, X):\n",
    "        probs = self.forward(X)\n",
    "        return probs\n",
    "\n",
    "    def predict(self, X):\n",
    "        probs = self.predict_proba(X)\n",
    "        preds = np.argmax(probs, axis=0)\n",
    "        return preds\n",
    "    \n",
    "    def print_predict(self, X, Y, epoch=-1):\n",
    "        if X is None or Y is None:\n",
    "            return\n",
    "        train_loss = self.loss\n",
    "        preds = self.predict(X.T)\n",
    "        metric_val = self.metric(Y, preds)\n",
    "        print(\"Epoch {} - Train loss = {:.3f}, Val performance: {:.4f}\".format(epoch, train_loss, metric_val))\n",
    "        return train_loss, metric_val"
   ]
  },
  {
   "cell_type": "markdown",
   "metadata": {
    "pycharm": {
     "name": "#%% md\n"
    }
   },
   "source": [
    "We now evaluate the correctness and mightiness of our neural net on the MNIST dataset. Before doing so, we'll just need a few more helper methods:"
   ]
  },
  {
   "cell_type": "code",
   "execution_count": 12,
   "metadata": {
    "pycharm": {
     "name": "#%%\n"
    }
   },
   "outputs": [],
   "source": [
    "def accuracy(Ytrue, preds):\n",
    "    num_data_points = Ytrue.shape[0]\n",
    "    correct_predictions = np.count_nonzero(Ytrue == preds)\n",
    "    accuracy = correct_predictions / num_data_points\n",
    "    return accuracy\n",
    "\n",
    "def to_categorical(Y):\n",
    "    n_classes = len(np.unique(Y))\n",
    "    Y_cat = np.zeros((Y.shape[0], n_classes))\n",
    "    for i, y in enumerate(Y):\n",
    "        Y_cat[i, int(y)] = 1\n",
    "    return Y_cat\n",
    "\n",
    "def plot_loss_and_accuracy(history):\n",
    "    fig = plt.figure(figsize=(25, 14), dpi=70)\n",
    "    ax = fig.gca()\n",
    "    xaxis = history['Epochs']\n",
    "    plt.plot(xaxis, history['Train_loss'], label=\"Train loss\", linewidth=4)\n",
    "    plt.plot(xaxis, history['Val_performance'], label=\"Validation accuracy\", linewidth=4)\n",
    "    plt.xlabel(\"Epochs\")\n",
    "    plt.xticks(np.arange(0, max(xaxis), 5))\n",
    "    plt.yticks(np.arange(0, 1, 0.05))\n",
    "    ax.grid()\n",
    "    plt.legend(prop={'size': 35})\n",
    "    plt.ylim(top=1, bottom=0)\n",
    "    plt.show()\n",
    "    \n",
    "def shuffle(a, b):\n",
    "    c = np.arange(len(a))\n",
    "    np.random.shuffle(c)\n",
    "    return a[c], b[c]\n",
    "\n",
    "def split(X, Y, train_frac=0.8):\n",
    "    X, Y = shuffle(X, Y)\n",
    "    upto = int(train_frac * X.shape[0])\n",
    "    return (X[:upto, :], Y[:upto]), (X[upto:, :], Y[upto:])"
   ]
  },
  {
   "cell_type": "markdown",
   "metadata": {},
   "source": [
    "Now to the actual learning: We'll use ReLU for the hidden, Softmax for the output layer(s). <br>\n",
    "The other hyperparameters we chose through manual rerunning, in practice we would of course want to use, e.g., random search. <br>"
   ]
  },
  {
   "cell_type": "code",
   "execution_count": 15,
   "metadata": {
    "pycharm": {
     "name": "#%%\n"
    }
   },
   "outputs": [
    {
     "name": "stdout",
     "output_type": "stream",
     "text": [
      "Epoch 0 - Train loss = 0.285, Val performance: 0.8103\n",
      "Epoch 1 - Train loss = 0.139, Val performance: 0.8403\n",
      "Epoch 2 - Train loss = 0.108, Val performance: 0.8586\n",
      "Epoch 3 - Train loss = 0.093, Val performance: 0.8652\n",
      "Epoch 4 - Train loss = 0.085, Val performance: 0.8752\n",
      "Epoch 5 - Train loss = 0.079, Val performance: 0.8802\n",
      "Epoch 6 - Train loss = 0.073, Val performance: 0.8785\n",
      "Epoch 7 - Train loss = 0.070, Val performance: 0.8652\n",
      "Epoch 8 - Train loss = 0.067, Val performance: 0.8835\n",
      "Epoch 9 - Train loss = 0.063, Val performance: 0.8869\n"
     ]
    },
    {
     "data": {
      "text/plain": "<Figure size 1750x980 with 1 Axes>",
      "image/png": "[encoded data removed]"
     },
     "metadata": {
      "needs_background": "light"
     },
     "output_type": "display_data"
    }
   ],
   "source": [
    "X, Y = np.loadtxt('example_applications/MNIST/small_mnist/mnist_small_train_in.txt', delimiter=','),np.loadtxt(\n",
    "    'example_applications/MNIST/small_mnist/mnist_small_train_out.txt', delimiter=',')\n",
    "(X, Y), (Xval, Yval) = split(X, Y, train_frac=0.9)\n",
    "Y = to_categorical(Y)  # needed for training\n",
    "\n",
    "hidden_layer_act = ReLU()\n",
    "layers = [\n",
    "    Layer(X.shape[1], Linear()),\n",
    "    Layer(150, hidden_layer_act),\n",
    "    Layer(150, hidden_layer_act),\n",
    "    Layer(10, Softmax())\n",
    "         ]\n",
    "nn = NeuralNetwork(layers)\n",
    "nn.compile(SquaredLoss(), metric=accuracy)\n",
    "history = nn.fit(X, Y, Xval, Yval, learning_rate=0.006, n_epochs=10, batch_size=10)\n",
    "plot_loss_and_accuracy(history)"
   ]
  },
  {
   "cell_type": "markdown",
   "metadata": {
    "pycharm": {
     "name": "#%% md\n"
    }
   },
   "source": [
    " # TESTING"
   ]
  },
  {
   "cell_type": "code",
   "execution_count": 16,
   "metadata": {
    "pycharm": {
     "name": "#%%\n"
    }
   },
   "outputs": [
    {
     "name": "stdout",
     "output_type": "stream",
     "text": [
      "Epoch -1 - Train loss = 0.063, Val performance: 0.9004\n"
     ]
    }
   ],
   "source": [
    "Xtest, Ytest = np.loadtxt('example_applications/MNIST/small_mnist/mnist_small_test_in.txt', delimiter=','), np.loadtxt(\n",
    "    'example_applications/MNIST/small_mnist/mnist_small_test_out.txt', delimiter=',')\n",
    "_ = nn.print_predict(Xtest, Ytest)\n",
    "# note that it's the TEST performance below"
   ]
  }
 ],
 "metadata": {
  "kernelspec": {
   "name": "pycharm-825b48f3",
   "language": "python",
   "display_name": "PyCharm (DataProgramming)"
  },
  "language_info": {
   "codemirror_mode": {
    "name": "ipython",
    "version": 3
   },
   "file_extension": ".py",
   "mimetype": "text/x-python",
   "name": "python",
   "nbconvert_exporter": "python",
   "pygments_lexer": "ipython3",
   "version": "3.7.7"
  }
 },
 "nbformat": 4,
 "nbformat_minor": 1
}